{
  "nbformat": 4,
  "nbformat_minor": 0,
  "metadata": {
    "colab": {
      "name": "Copy of ESRGAN.ipynb",
      "provenance": [],
      "collapsed_sections": [],
      "include_colab_link": true
    },
    "kernelspec": {
      "name": "python3",
      "display_name": "Python 3"
    },
    "language_info": {
      "name": "python"
    },
    "accelerator": "GPU",
    "widgets": {
      "application/vnd.jupyter.widget-state+json": {
        "0c70b0b9161342b7aa24aa5377df5d3e": {
          "model_module": "@jupyter-widgets/controls",
          "model_name": "DropdownModel",
          "state": {
            "_options_labels": [
              "2x_MangaScaleV3.pth"
            ],
            "_view_name": "DropdownView",
            "style": "IPY_MODEL_c618de78bde64c66b17a0ad525ce88d2",
            "_dom_classes": [],
            "description": "",
            "_model_name": "DropdownModel",
            "index": 0,
            "_view_module": "@jupyter-widgets/controls",
            "_model_module_version": "1.5.0",
            "_view_count": null,
            "disabled": false,
            "_view_module_version": "1.5.0",
            "description_tooltip": null,
            "_model_module": "@jupyter-widgets/controls",
            "layout": "IPY_MODEL_136996c4289842ca822afa4ceb4abbdb"
          }
        },
        "c618de78bde64c66b17a0ad525ce88d2": {
          "model_module": "@jupyter-widgets/controls",
          "model_name": "DescriptionStyleModel",
          "state": {
            "_view_name": "StyleView",
            "_model_name": "DescriptionStyleModel",
            "description_width": "",
            "_view_module": "@jupyter-widgets/base",
            "_model_module_version": "1.5.0",
            "_view_count": null,
            "_view_module_version": "1.2.0",
            "_model_module": "@jupyter-widgets/controls"
          }
        },
        "136996c4289842ca822afa4ceb4abbdb": {
          "model_module": "@jupyter-widgets/base",
          "model_name": "LayoutModel",
          "state": {
            "_view_name": "LayoutView",
            "grid_template_rows": null,
            "right": null,
            "justify_content": null,
            "_view_module": "@jupyter-widgets/base",
            "overflow": null,
            "_model_module_version": "1.2.0",
            "_view_count": null,
            "flex_flow": null,
            "width": null,
            "min_width": null,
            "border": null,
            "align_items": null,
            "bottom": null,
            "_model_module": "@jupyter-widgets/base",
            "top": null,
            "grid_column": null,
            "overflow_y": null,
            "overflow_x": null,
            "grid_auto_flow": null,
            "grid_area": null,
            "grid_template_columns": null,
            "flex": null,
            "_model_name": "LayoutModel",
            "justify_items": null,
            "grid_row": null,
            "max_height": null,
            "align_content": null,
            "visibility": null,
            "align_self": null,
            "height": null,
            "min_height": null,
            "padding": null,
            "grid_auto_rows": null,
            "grid_gap": null,
            "max_width": null,
            "order": null,
            "_view_module_version": "1.2.0",
            "grid_template_areas": null,
            "object_position": null,
            "object_fit": null,
            "grid_auto_columns": null,
            "margin": null,
            "display": null,
            "left": null
          }
        }
      }
    }
  },
  "cells": [
    {
      "cell_type": "markdown",
      "metadata": {
        "id": "view-in-github",
        "colab_type": "text"
      },
      "source": [
        "<a href=\"https://colab.research.google.com/github/lvl1scans/test-colab/blob/main/ESRGAN.ipynb\" target=\"_parent\"><img src=\"https://colab.research.google.com/assets/colab-badge.svg\" alt=\"Open In Colab\"/></a>"
      ]
    },
    {
      "cell_type": "code",
      "metadata": {
        "id": "nYEj5CeCqbTY",
        "cellView": "form"
      },
      "source": [
        "#@title [0] Colab Stay Alive</font>\n",
        "#@markdown This cell runs a JS code that automatically presses the reconnect button in every 60 seconds to avoid inactivity due to idle timeout.\n",
        "\n",
        "import IPython\n",
        "from IPython.display import clear_output\n",
        "from google.colab import output\n",
        "\n",
        "display(IPython.display.Javascript('''\n",
        " function connectRefresher() {\n",
        "       window.ConnectButtonIntervalId = setInterval(function ConnectButton(){\n",
        "                console.log(\"connected\"); \n",
        "                document.querySelector(\"#top-toolbar > colab-connect-button\").shadowRoot.querySelector(\"#connect\").click();\n",
        "                document.querySelector(\"colab-sessions-dialog\").shadowRoot.querySelector(\"#footer > div > paper-button\").click();\n",
        "                console.log(\"closed the dialog!!\"); \n",
        "            },60000);\n",
        "    }\n",
        "    \n",
        " function clearRefresher() { \n",
        "           console.log(\"clear Interval called !!\");\n",
        "           clearInterval(window.ConnectButtonIntervalId);\n",
        "    }\n",
        "\n",
        " connectRefresher(); //to connect the refresher\n",
        " clearRefresher(); //to disconnect the refresher\n",
        "'''))\n",
        "\n",
        "clear_output()"
      ],
      "execution_count": null,
      "outputs": []
    },
    {
      "cell_type": "code",
      "metadata": {
        "id": "rzI_UE2kfUER",
        "cellView": "form",
        "colab": {
          "base_uri": "https://localhost:8080/"
        },
        "outputId": "48154073-ee2e-404a-eb2c-39ac983b472d"
      },
      "source": [
        "#@title [1] Mount Google Drive\n",
        "from google.colab import drive\n",
        "drive.mount('/content/drive', force_remount=True)\n",
        "#!echo May have to insert the code again for disconnected session."
      ],
      "execution_count": null,
      "outputs": [
        {
          "output_type": "stream",
          "text": [
            "Mounted at /content/drive\n"
          ],
          "name": "stdout"
        }
      ]
    },
    {
      "cell_type": "markdown",
      "metadata": {
        "id": "-IpzaXbRm2hZ"
      },
      "source": [
        "<font size=5><center>**ESRGAN**</center></font>\n",
        "\n"
      ]
    },
    {
      "cell_type": "code",
      "metadata": {
        "id": "WUVFNJ8omlD1",
        "cellView": "form",
        "colab": {
          "base_uri": "https://localhost:8080/"
        },
        "outputId": "c885b69c-80e6-4580-e7fc-b88f1078753c"
      },
      "source": [
        "#@title [2] Install ESRGAN\n",
        "#@markdown This colab is using the <a href=\"https://github.com/JoeyBallentine/ESRGAN/\" target=\"_blank\">ESRGAN fork of JoeyBallentine</a>\n",
        "from IPython.display import clear_output\n",
        "%cd /content\n",
        "#!sudo apt-get install cuda\n",
        "!git clone https://github.com/JoeyBallentine/ESRGAN.git\n",
        "%cd /content/ESRGAN\n",
        "!pip install -r requirements.txt\n",
        "clear_output()\n",
        "!echo Installed at /content/ESRGAN"
      ],
      "execution_count": null,
      "outputs": [
        {
          "output_type": "stream",
          "text": [
            "Installed at /content/ESRGAN\n"
          ],
          "name": "stdout"
        }
      ]
    },
    {
      "cell_type": "code",
      "metadata": {
        "id": "U4tQpHy97ZhE",
        "cellView": "form",
        "colab": {
          "base_uri": "https://localhost:8080/",
          "height": 67,
          "referenced_widgets": [
            "0c70b0b9161342b7aa24aa5377df5d3e",
            "c618de78bde64c66b17a0ad525ce88d2",
            "136996c4289842ca822afa4ceb4abbdb"
          ]
        },
        "outputId": "39f4cae4-4ead-4a5e-c1f6-3b1a62d0a572"
      },
      "source": [
        "#@title [3] Download and set the model\n",
        "#@markdown <font size=2>you can add more models from here > <a href=\"https://upscale.wiki/wiki/Model_Database\" target=\"_blank\">https://upscale.wiki/wiki/Model_Database</a></font>\n",
        "import ipywidgets as widgets\n",
        "model_list = []\n",
        "!pip install mega.py\n",
        "from mega import Mega\n",
        "mega = Mega()\n",
        "m = mega.login()\n",
        "%cd /content/ESRGAN/models\n",
        "\n",
        "original_RRDB_ESRGAN = False #@param {type: \"boolean\"}\n",
        "if original_RRDB_ESRGAN:\n",
        "  !gdown --id 1TPrz5QKd8DHHt1k8SRtm6tMiPjz_Qene\n",
        "  !gdown --id 1pJ_T-V1dpb1ewoEra1TGSWl5e6H7M4NN\n",
        "  !gdown --id 1MJFgqXJrMkPdKtiuy7C6xfsU1QIbXEb-\n",
        "  !gdown --id 1mSJ6Z40weL-dnPvi390xDd3uZBCFMeqr\n",
        "  model_list.extend(['RRDB_ESRGAN_x4.pth','RRDB_PSNR_x4.pth','RRDB_ESRGAN_x4_old_arch.pth','RRDB_PSNR_x4_old_arch.pth'])\n",
        "#@markdown <font size=2>author: <i>Xintao Wang and co.</i><br>scale: `4x`<br>models: `RRDB_ESRGAN_x4.pth`, `RRDB_PSNR_x4.pth`, `RRDB_ESRGAN_x4_old_arch.pth`, `RRDB_PSNR_x4_old_arch.pth`<br>info: <i>The original pre-trained models for upscaling</i></font>\n",
        "\n",
        "transformed_ESRGAN = False #@param {type: \"boolean\"}\n",
        "if transformed_ESRGAN:\n",
        "  m.download_url('https://mega.nz/file/vtgSWKQT#K7Asn2zKe4N70R2aV89KEMTKhH3aiyGAAiuQDJF09qs')\n",
        "  m.download_url('https://mega.nz/file/6kwQiCCS#v2uN8R44vVrlzmSqffGaCnzgogkPhhl67myJbuG45SA')\n",
        "  model_list.extend(['2xESRGAN.pth','8xESRGAN.pth'])\n",
        "#@markdown <font size=2>author: <i>victorca25</i><br>scale: `2x`, `8x`<br>models: `2xESRGAN.pth`, `8xESRGAN.pth`<br>info: <i>Transformed models from the original pre-trained model into the other scales.</i></font>\n",
        "\n",
        "MangaScale_V3 = True #@param {type: \"boolean\"}\n",
        "if MangaScale_V3:\n",
        "  #m.download_url('https://mega.nz/file/nR51EYYC#RcAKkxb8hAzvZAj4TLxnAukd9gbrYuUeyjUp2l1ffb8')\n",
        "  !gdown --id 1RGxHR-g-VjAgAr9XwBVjH1ydT-vlMXtQ\n",
        "  model_list.append('2x_MangaScaleV3.pth')\n",
        "#@markdown <font size=2>author: <i>anon</i><br>scale: `2x`<br>model: `2x_MangaScaleV3.pth`<br>info: <i>upscaling q=70~ jpeg with implementing screentones</i></font>\n",
        "\n",
        "Falcon_Fanart = False #@param {type: \"boolean\"}\n",
        "if Falcon_Fanart:\n",
        "  !gdown --id 1bqyG9llxkJ6i6MJTaNUiSgSXtrlPi0d7\n",
        "  !7z e falcoon300.7z\n",
        "  !rm ./falcoon300.7z\n",
        "  model_list.append('falcoon300.pth')\n",
        "#@markdown <font size=2>author: <i>LyonHrt</i><br>scale: `4x`<br>model: `falcoon300.pth`<br>info: <i>upscaling anime, manga digital art. Falcoon Fanart tries to improve upon Manga109Attempt's slightly blurriness with the goal of removing checkerboard patterns / and dithering. It has oil color based shading with sharp lines.</i></font>\n",
        "\n",
        "DigiPaint = False #@param {type: \"boolean\"}\n",
        "if DigiPaint:\n",
        "  !gdown --id 103MX2bvd3GW0MYpC53ABU5VYY6v1t99Y\n",
        "  model_list.append('DigiPaint35000.pth')\n",
        "#@markdown <font size=2>author: <i>TheAtheistGod</i><br>scale: `4x`<br>model: `DigiPaint35000.pth`<br>info: <i>DigiPaint is a digital art upscaler designed to take brush strokes into account, based off of the Falcoon Fanart model.</i></font>\n",
        "\n",
        "FatalimiX = False #@param {type: \"boolean\"}\n",
        "if FatalimiX:\n",
        "  !wget 'https://de-next.owncube.com/index.php/s/jYnFtncarkBmpcF/download?downloadFile' -O 4x_Fatality_Comix_260000_G.pth\n",
        "  model_list.append('4x_Fatality_Comix_260000_G.pth')\n",
        "#@markdown <font size=2>author: <i>Twittman</i><br>scale: `4x`<br>model: `4x_Fatality_Comix_260000_G.pth`<br>info: <i>FatalimiX is specialized in making low res comics to high res.</i></font>\n",
        "\n",
        "Fatality_DeBlur = False #@param {type: \"boolean\"}\n",
        "if Fatality_DeBlur:\n",
        "  !wget 'https://de-next.owncube.com/index.php/s/aAojXwLTPZto8rP/download?downloadFile' -O 1x_Fatality_DeBlur_270000_G.pth\n",
        "  model_list.append('1x_Fatality_DeBlur_270000_G.pth')\n",
        "#@markdown <font size=2>author: <i>Twittman</i><br>scale: `1x`<br>model: `1x_Fatality_DeBlur_270000_G.pth`<br>info: <i>Fatality DeBlur is intended for general deblurring of images, and has some robustness against compression and noise.</i></font>\n",
        "\n",
        "Baldrick_VHS_Fix_v0_2 = False #@param {type: \"boolean\"}\n",
        "if Baldrick_VHS_Fix_v0_2:\n",
        "  !wget 'https://icecube-eu-286.icedrive.io/download?p=Dsw65F5PttucA5GEjk5gTDoACdeM3oTN%2BrQDtV%2FiKP2VAtmmRiM0DiW8uIw4jbIXxER5myuy%2BuaWIRatD8bd0uJCntJjsTenc%2ByKYMPLWB83pOeTqxF%2FeVUS7OJLRfnJr7MOWInM002a%2BoZusB7Zy3LWg233LnrW703lny%2FG6d4s6dBVUaZtjLD1StShNKkOAtw3QzBhfBMU%2BN8NxNzmQz%2BobFFQm6heSvhEBqxRoBY%3D' -O 1xBaldrickVHSFix_180000_G_V0.2.pth\n",
        "  model_list.append('1xBaldrickVHSFix_180000_G_V0.2.pth')\n",
        "#@markdown <font size=2>author: <i>NimRodZorg</i><br>scale: `1x`<br>model: `1xBaldrickVHSFix_180000_G_V0.2.pth`<br>info: <i>Fixing minor VHS Chroma and Pattern Noise. May applicable for similar scanned images.</i></font>\n",
        "\n",
        "jpg_BlueAmulet = False #@param {type: \"boolean\"}\n",
        "if jpg_BlueAmulet:\n",
        "  !gdown --id 1lgpo60okKC_9D6mzymHOvwdJDsOqxi7j\n",
        "  !gdown --id 1V2PTYzMMDIB7NNCp-ZXhIf26a0xHO2b2\n",
        "  !gdown --id 17ocFMDz4jfYH73mT_4i1099JCGVnOHd2\n",
        "  model_list.extend(['1x_JPEG_40-60.pth','1x_JPEG_60-80.pth','1x_JPEG_80-100.pth'])\n",
        "#@markdown <font size=2>author: <i>BlueAmulet</i><br>scale: `1x`<br>models: `1x_JPEG_40-60.pth`, `1x_JPEG_60-80.pth`, `1x_JPEG_80-100.pth`<br>info: <i>Denoising JPG compressed Images</i></font>\n",
        "\n",
        "Jaywreck3 = False #@param {type: \"boolean\"}\n",
        "if Jaywreck3:\n",
        "  !wget 'https://icecube-eu-286.icedrive.io/download?p=Dsw65F5PttucA5GEjk5gTNHVbsvS0d9n4xG6iXebmHCnTeooDTK7XndlvQ%2FuyuS5wk43pZR81aUfwK0Qs%2FEg6B82OqzvZu1AgH79k%2FcnLQs6heqXMag1L1KDKpFQORZbjlHupFMKCpFpIZ%2BbnTm2GI%2F26D8nYJlgZ2aQDUDnql10yibDRmMxdS%2BwZggofl5YFr1qQ6KiOLY3RvYru4UnTW5J4jS8ksBNxa%2BQmbmw%2FQE%3D' -O 1x_NMKD-Jaywreck3-Lite_320k.pth\n",
        "  !wget 'https://icecube-eu-286.icedrive.io/download?p=Dsw65F5PttucA5GEjk5gTNHVbsvS0d9n4xG6iXebmHCca1B9yE5n7QBqgoUooLeCEnt%2F55UtaHUigRVI1rEIbH2ijD5ZS7iFE89O%2FAkjhU5T4bTeZUGulQAPIoaKN85rPMCPVO%2FEMIoxB8SRx%2BgV5wyHpNRsRT6L7CS8yb7n99Ov0TtRBKIx9SgXyZPYlMXNvo1wW02WGBmFGtIJqSJsA1lLYjuTLMjIsAEuZSLrlvU%3D' -O 1x_NMKD-Jaywreck3-Soft-Lite_320k.pth\n",
        "  model_list.extend(['1x_NMKD-Jaywreck3-Lite_320k.pth','1x_NMKD-Jaywreck3-Soft-Lite_320k.pth'])\n",
        "#@markdown <font size=2>author: <i>nmkd</i><br>scale: `1x`<br>models: `1x_NMKD-Jaywreck3-Lite_320k.pth`, `1x_NMKD-Jaywreck3-Soft-Lite_320k.pth`<br>info: <i>Denoising JPG compressed Images. It is trained to handle any amount of JPEG compression, even removing artifacts of quality 5 JPEGs. Its only weakness is a slight tendency to oversharpen certain textures. It's recommended to not use this model for very small images</i></font>\n",
        "\n",
        "SaiyaJin_DeJpeg = False #@param {type: \"boolean\"}\n",
        "if SaiyaJin_DeJpeg:\n",
        "  !wget 'https://f002.backblazeb2.com/file/ESRGAN/_RELEASE/1x_Saiyajin_DeJPEG_300000_G.pth'\n",
        "  model_list.append('1x_Saiyajin_DeJPEG_300000_G.pth')\n",
        "#@markdown <font size=2>author: <i>Twittman</i><br>scale: `1x`<br>model: `1x_Saiyajin_DeJPEG_300000_G.pth`<br>info: <i>Denoising JPG compressed Images from 2% to 100% quality.</i></font>\n",
        "\n",
        "Colorizer = False #@param {type: \"boolean\"}\n",
        "if Colorizer:\n",
        "  !gdown --id 1UgxnymTfLaVhY3aaDuBRnTZ9ehckKVKJ\n",
        "  model_list.append('1x_ColorizerV2_22000G.pth')\n",
        "#@markdown <font size=2>author: <i>BlackScout</i><br>scale: `1x`<br>model: `1x_ColorizerV2_22000G.pth`<br>info: <i>Coloring black and white images.</i></font>\n",
        "\n",
        "clear_output()\n",
        "model = widgets.Dropdown(options=model_list, value='2x_MangaScaleV3.pth')\n",
        "!echo 'please select the model for processing'\n",
        "model"
      ],
      "execution_count": null,
      "outputs": [
        {
          "output_type": "stream",
          "text": [
            "please select the model for processing\n"
          ],
          "name": "stdout"
        },
        {
          "output_type": "display_data",
          "data": {
            "application/vnd.jupyter.widget-view+json": {
              "model_id": "0c70b0b9161342b7aa24aa5377df5d3e",
              "version_minor": 0,
              "version_major": 2
            },
            "text/plain": [
              "Dropdown(options=('2x_MangaScaleV3.pth',), value='2x_MangaScaleV3.pth')"
            ]
          },
          "metadata": {
            "tags": []
          }
        }
      ]
    },
    {
      "cell_type": "code",
      "metadata": {
        "id": "zHfXbGK2xIns",
        "cellView": "form",
        "colab": {
          "base_uri": "https://localhost:8080/"
        },
        "outputId": "616635db-945a-4f85-80cf-e9dff265066d"
      },
      "source": [
        "#@title [4] Run the app\n",
        "input_folder = '/content/drive/Shareddrives/Lvl 1 Scans/!Kimi to Pico-Pico/Ch 4/Raws' #@param {type: \"string\"}\n",
        "output_folder = '/content/drive/Shareddrives/Lvl 1 Scans/!Kimi to Pico-Pico/Ch 4/Upscaled' #@param {type: \"string\"}\n",
        "#@markdown <font size=2>if \"output_folder\" is empty, it'll create a \"*_esrgan-ed\" folder in the parent folder of \"input_folder\"</font>\n",
        "import os\n",
        "if output_folder.strip()=='':\n",
        "  %cd '{input_folder}'\n",
        "  ifolderpath = os.getcwd()\n",
        "  ifolder = os.path.basename(ifolderpath)\n",
        "  ofolder = ifolder + '_esrgan-ed'\n",
        "  %cd ..\n",
        "  %mkdir '{ofolder}'\n",
        "  %cd '{ofolder}'\n",
        "  output_folder = os.getcwd()\n",
        "  \n",
        "#@markdown ___\n",
        "#@markdown Please go to <a href=\"https://github.com/JoeyBallentine/ESRGAN/\" target=\"_blank\">https://github.com/JoeyBallentine/ESRGAN/</a> to learn more about the following settings.\n",
        "skip_existing_output_files = False #@param {type:\"boolean\"}\n",
        "if skip_existing_output_files:\n",
        "  skip_existing_output_files = ' --skip-existing'\n",
        "else:\n",
        "  skip_existing_output_files = ''\n",
        "#@markdown <font size=1>if there are previously processed files in \"output_folder\", and you want to skip them instead of overwriting them.</font>\n",
        "delete_input_files_after_process = False #@param {type:\"boolean\"}\n",
        "if delete_input_files_after_process:\n",
        "  delete_input_files_after_process = ' --delete-input'\n",
        "else:\n",
        "  delete_input_files_after_process = ''\n",
        "seamless = 'tile' #@param ['tile','mirror','replicate','alpha_pad']\n",
        "#@markdown <font size=1>Helps seamlessly process an image. tile = repeating along edges. mirror = reflected along edges. replicate = extended pixels along edges. alpha_pad = extended alpha border.</font>\n",
        "use_CPU_instead_of_CUDA = False #@param {type:\"boolean\"}\n",
        "if use_CPU_instead_of_CUDA:\n",
        "  use_CPU_instead_of_CUDA = ' --cpu'\n",
        "else:\n",
        "  use_CPU_instead_of_CUDA = ''\n",
        "#@markdown <font size=1>you can try using the TPU runtime type instead of GPU</font>\n",
        "floating_point_16 = False #@param {type:\"boolean\"}\n",
        "if floating_point_16:\n",
        "  floating_point_16 = ' --floating-point-16'\n",
        "else:\n",
        "  floating_point_16 = ''\n",
        "#@markdown <font size=1>FloatingPoint16/Halftensor type may increase process time in exchange for slight decrease on the accuracy.</font>\n",
        "cache_max_split_depth = True #@param {type:\"boolean\"}\n",
        "if cache_max_split_depth:\n",
        "  cache_max_split_depth = ' --cache-max-split-depth'\n",
        "else:\n",
        "  cache_max_split_depth = ''\n",
        "#@markdown <font size=1>If you're processing images of the same size, you can enable this to only calculate the automatic tile size once to improve performance.</font>\n",
        "#@markdown ___\n",
        "#@markdown <font size=2><center>**extra settings (alpha transparency)**</center></font>\n",
        "binary_alpha = False #@param {type:\"boolean\"}\n",
        "if binary_alpha:\n",
        "  binary_alpha = ' --binary-alpha'\n",
        "else:\n",
        "  binary_alpha = ''\n",
        "#@markdown <font size=1>Whether to use a 1 bit alpha transparency channel, Useful for PSX upscaling.</font>\n",
        "ternary_alpha = False #@param {type:\"boolean\"}\n",
        "if ternary_alpha:\n",
        "  ternary_alpha = ' --ternary-alpha'\n",
        "else:\n",
        "  ternary_alpha = ''\n",
        "#@markdown <font size=1>Whether to use a 2 bit alpha transparency channel, Useful for PSX upscaling.</font>\n",
        "alpha_threshold =  0.5#@param {type:\"number\"}\n",
        "#@markdown <font size=1>Only used when binary_alpha is supplied. Defines the alpha threshold for binary transparency.</font>\n",
        "alpha_boundary_offset =  0.2#@param {type:\"number\"}\n",
        "#@markdown <font size=1>Only used when binary_alpha is supplied. Determines the offset boundary from the alpha threshold for half transparency.</font>\n",
        "alpha_mode = 'no_alpha' #@param ['no_alpha','bas','alpha_separately','swapping']\n",
        "#@markdown <font size=1>Type of alpha processing to use. no_alpha = is no alpha processing. bas = is BA's difference method. alpha_separately = is upscaling the alpha channel separately (like IEU). swapping = is swapping an existing channel with the alpha channel.</font>\n",
        "#@markdown ___\n",
        "verbose = False #@param {type:\"boolean\"}\n",
        "if verbose:\n",
        "  verbose = ' --verbose'\n",
        "else:\n",
        "  verbose = ''\n",
        "customize_model_usage = \"\" #@param {type:\"string\"}\n",
        "if customize_model_usage.strip()=='':\n",
        "  model_pth = model.value\n",
        "else:\n",
        "  model_pth = customize_model_usage\n",
        "\n",
        "#@markdown <font size=1>Leave this empty if you use only one model that you have selected in the previous cell's output.<br>Else you can manually input the string for \"model chaining\" (eg- `1xSSAntiAlias9x.pth>4xBox.pth`) or \"on-the-fly interpolation\" (eg- `1x_model1.pth@50|1x_model2.pth@50>2x_model3.pth`).</font>\n",
        "\n",
        "%cd /content/ESRGAN\n",
        "cmd = f\"python upscale.py --input '{input_folder}' --output '{output_folder}'{skip_existing_output_files}{delete_input_files_after_process} --seamless {seamless}{use_CPU_instead_of_CUDA}{floating_point_16}{cache_max_split_depth}{binary_alpha}{ternary_alpha} --alpha-threshold {alpha_threshold} --alpha-boundary-offset {alpha_boundary_offset} --alpha-mode {alpha_mode}{verbose} '{model_pth}'\"\n",
        "!echo $cmd\n",
        "!$cmd\n",
        "!echo ESRGAN process ended"
      ],
      "execution_count": null,
      "outputs": [
        {
          "output_type": "stream",
          "text": [
            "/content/ESRGAN\n",
            "python upscale.py --input /content/drive/Shareddrives/Lvl 1 Scans/!Kimi to Pico-Pico/Ch 4/Raws --output /content/drive/Shareddrives/Lvl 1 Scans/!Kimi to Pico-Pico/Ch 4/Upscaled --seamless tile --cache-max-split-depth --alpha-threshold 0.5 --alpha-boundary-offset 0.2 --alpha-mode no_alpha 2x_MangaScaleV3.pth\n",
            "Model: \u001b[32m\"models/2x_MangaScaleV3.pth\"\u001b[0m\n",
            "\u001b[2KUpscaling \u001b[90m━━━━━━━━━━━━━━━━━━━━━━━━━━━━━━━━━━━━━━━━\u001b[0m \u001b[35m100%\u001b[0m \u001b[36m0:00:00\u001b[0m\n",
            "\u001b[?25hESRGAN process ended\n"
          ],
          "name": "stdout"
        }
      ]
    },
    {
      "cell_type": "code",
      "metadata": {
        "id": "QOjKya3RKZ_E",
        "cellView": "form"
      },
      "source": [
        "#@title download the output_folder as 7zip\n",
        "%cd '{output_folder}'\n",
        "%cd ..\n",
        "!7z a '{output_folder}' '{output_folder}/*'\n",
        "clear_output()\n",
        "import google.colab.files\n",
        "out_7z = output_folder + '.7z'\n",
        "downloaded = google.colab.files.download(out_7z)"
      ],
      "execution_count": null,
      "outputs": []
    }
  ]
}